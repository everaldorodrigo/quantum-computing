{
 "cells": [
  {
   "cell_type": "code",
   "execution_count": null,
   "id": "dd85711d",
   "metadata": {},
   "outputs": [],
   "source": [
    "# Caesar's cipher\n",
    "\n",
    "message = \"YES\"\n",
    "shift = 3\n",
    "encryption = \"\"\n",
    "\n",
    "for c in message:\n",
    "    if c.isupper():\n",
    "        c_unicode = ord(c)\n",
    "        c_index = ord(c) - ord(\"A\")\n",
    "        new_index = (c_index + shift) % 26\n",
    "        new_unicode = new_index + ord(\"A\")\n",
    "        new_character = chr(new_unicode)\n",
    "        encryption = encryption + new_character\n",
    "    else:\n",
    "        encryption += c\n",
    "        \n",
    "print(\"Plain text:\", message)\n",
    "print(\"Encrypted text:\", encryption)"
   ]
  },
  {
   "cell_type": "code",
   "execution_count": null,
   "id": "54a33e53",
   "metadata": {},
   "outputs": [],
   "source": []
  }
 ],
 "metadata": {
  "kernelspec": {
   "display_name": "Python 3 (ipykernel)",
   "language": "python",
   "name": "python3"
  },
  "language_info": {
   "codemirror_mode": {
    "name": "ipython",
    "version": 3
   },
   "file_extension": ".py",
   "mimetype": "text/x-python",
   "name": "python",
   "nbconvert_exporter": "python",
   "pygments_lexer": "ipython3",
   "version": "3.9.12"
  }
 },
 "nbformat": 4,
 "nbformat_minor": 5
}
