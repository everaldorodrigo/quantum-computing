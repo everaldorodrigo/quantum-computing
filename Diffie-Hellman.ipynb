{
 "cells": [
  {
   "cell_type": "code",
   "execution_count": null,
   "id": "5bcecd88",
   "metadata": {},
   "outputs": [],
   "source": [
    "# Diffie-Hellman\n",
    "\n",
    "import math\n",
    "\n",
    "p = input(\"Enter the shared prime number: \\n\")\n",
    "p = int(p)\n",
    "g = input(\"Enter the shared base: \\n\")\n",
    "g = int(g)\n",
    "\n",
    "a = input(\"Enter Alice's secret key: \\n\")\n",
    "a = int(a)\n",
    "b = input(\"Enter Bob's secret key: \\n\")\n",
    "b = int(b)\n",
    "\n",
    "AlicePublicKey = (g ** a ) % p\n",
    "BobPublicKey = (g ** b) % p\n",
    "\n",
    "AliceSecret = (BobPublicKey ** a) % p\n",
    "BobSecret = (AlicePublicKey ** b) % p\n",
    "\n",
    "print(AliceSecret)\n",
    "print(BobSecret)"
   ]
  },
  {
   "cell_type": "code",
   "execution_count": null,
   "id": "57eb4e14",
   "metadata": {},
   "outputs": [],
   "source": []
  }
 ],
 "metadata": {
  "kernelspec": {
   "display_name": "Python 3 (ipykernel)",
   "language": "python",
   "name": "python3"
  },
  "language_info": {
   "codemirror_mode": {
    "name": "ipython",
    "version": 3
   },
   "file_extension": ".py",
   "mimetype": "text/x-python",
   "name": "python",
   "nbconvert_exporter": "python",
   "pygments_lexer": "ipython3",
   "version": "3.9.12"
  }
 },
 "nbformat": 4,
 "nbformat_minor": 5
}
