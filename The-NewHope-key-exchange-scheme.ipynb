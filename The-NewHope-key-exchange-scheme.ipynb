{
 "cells": [
  {
   "cell_type": "markdown",
   "id": "61ebcb55",
   "metadata": {},
   "source": [
    "# The NewHope key exchange scheme"
   ]
  },
  {
   "cell_type": "code",
   "execution_count": 11,
   "id": "ca5e49f8",
   "metadata": {},
   "outputs": [],
   "source": [
    "from pynewhope import newhope\n",
    "import numpy as np\n",
    "\n",
    "np.random.seed(42)"
   ]
  },
  {
   "cell_type": "code",
   "execution_count": 12,
   "id": "3b6b1778",
   "metadata": {},
   "outputs": [],
   "source": [
    "ka, ma = newhope.keygen()\n",
    "skb, mb = newhope.sharedB(ma)\n",
    "ska = newhope.sharedA(mb, ka)"
   ]
  },
  {
   "cell_type": "code",
   "execution_count": 13,
   "id": "dd21cf1b",
   "metadata": {},
   "outputs": [
    {
     "name": "stdout",
     "output_type": "stream",
     "text": [
      "\n",
      "Successful key exchange! Keys match.\n",
      "The shared key is: [199, 222, 237, 44, 75, 64, 239, 206, 13, 125, 128, 44, 60, 107, 197, 214, 143, 183, 245, 167, 16, 45, 159, 165, 169, 76, 119, 167, 226, 24, 170, 245]\n"
     ]
    }
   ],
   "source": [
    "if ska == skb:\n",
    "    print(\"\\nSuccessful key exchange! Keys match.\")\n",
    "else:\n",
    "    print(\"\\nError! Keys do not match.\")\n",
    "    \n",
    "print(\"The shared key is:\", ska)"
   ]
  },
  {
   "cell_type": "markdown",
   "id": "ee7267c2",
   "metadata": {},
   "source": [
    "# The SPHINCS+ digital signature scheme"
   ]
  },
  {
   "cell_type": "code",
   "execution_count": 15,
   "id": "2cc5d28b",
   "metadata": {},
   "outputs": [
    {
     "ename": "ModuleNotFoundError",
     "evalue": "No module named 'pyspx'",
     "output_type": "error",
     "traceback": [
      "\u001b[0;31m---------------------------------------------------------------------------\u001b[0m",
      "\u001b[0;31mModuleNotFoundError\u001b[0m                       Traceback (most recent call last)",
      "Input \u001b[0;32mIn [15]\u001b[0m, in \u001b[0;36m<module>\u001b[0;34m\u001b[0m\n\u001b[0;32m----> 1\u001b[0m \u001b[38;5;28;01mimport\u001b[39;00m \u001b[38;5;21;01mpyspx\u001b[39;00m\u001b[38;5;21;01m.\u001b[39;00m\u001b[38;5;21;01mshake256_128s\u001b[39;00m \u001b[38;5;28;01mas\u001b[39;00m \u001b[38;5;21;01msphincs\u001b[39;00m\n\u001b[1;32m      2\u001b[0m \u001b[38;5;28;01mimport\u001b[39;00m \u001b[38;5;21;01mos\u001b[39;00m\u001b[38;5;241m,\u001b[39m \u001b[38;5;21;01mbinascii\u001b[39;00m\n\u001b[1;32m      3\u001b[0m \u001b[38;5;28;01mimport\u001b[39;00m \u001b[38;5;21;01mnumpy\u001b[39;00m \u001b[38;5;28;01mas\u001b[39;00m \u001b[38;5;21;01mnp\u001b[39;00m\n",
      "\u001b[0;31mModuleNotFoundError\u001b[0m: No module named 'pyspx'"
     ]
    }
   ],
   "source": [
    "import pyspx.shake256_128s as sphincs\n",
    "import os, binascii\n",
    "import numpy as np\n",
    "\n",
    "np.random.seed(42)"
   ]
  },
  {
   "cell_type": "code",
   "execution_count": null,
   "id": "bd9e6d6e",
   "metadata": {},
   "outputs": [],
   "source": [
    "# Key generation: private + public key\n",
    "seed = os.urandom(sphincs.crypto_sign_SEEDBYTES)\n",
    "public_key, secret_key = sphincs.generate_keypair(seed)"
   ]
  },
  {
   "cell_type": "code",
   "execution_count": null,
   "id": "19cb4eff",
   "metadata": {},
   "outputs": [],
   "source": [
    "message = b'Hello World'\n",
    "signature = sphincs.sign(message, secret_key)\n",
    "valid = sphincs.verify(message, signature, public_key)\n",
    "\n",
    "message = b'Hello World'\n",
    "valid = sphincs.verify(message, signature, public_key)\n",
    "print(\"Tampered message:\", message)\n",
    "print(\"Tampered signature valid?\", valid)\n",
    "\n",
    "message = b'Bye World'\n",
    "valid = sphincs.verify(message, signature, public_key)\n",
    "print(\"Tampered message:\", message)\n",
    "print(\"Tampered signature valid?\", valid)"
   ]
  },
  {
   "cell_type": "code",
   "execution_count": null,
   "id": "20c3fe03",
   "metadata": {},
   "outputs": [],
   "source": []
  }
 ],
 "metadata": {
  "kernelspec": {
   "display_name": "Python 3 (ipykernel)",
   "language": "python",
   "name": "python3"
  },
  "language_info": {
   "codemirror_mode": {
    "name": "ipython",
    "version": 3
   },
   "file_extension": ".py",
   "mimetype": "text/x-python",
   "name": "python",
   "nbconvert_exporter": "python",
   "pygments_lexer": "ipython3",
   "version": "3.9.2"
  }
 },
 "nbformat": 4,
 "nbformat_minor": 5
}
