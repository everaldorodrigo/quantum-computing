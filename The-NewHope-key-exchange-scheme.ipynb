{
 "cells": [
  {
   "cell_type": "markdown",
   "id": "e13b2a7a",
   "metadata": {},
   "source": [
    "# The NewHope key exchange scheme"
   ]
  },
  {
   "cell_type": "code",
   "execution_count": null,
   "id": "028ce3fe",
   "metadata": {},
   "outputs": [],
   "source": [
    "from pynewhope import newhope\n",
    "import numpy as np\n",
    "\n",
    "np.random.seed(42)"
   ]
  },
  {
   "cell_type": "code",
   "execution_count": null,
   "id": "376cb65c",
   "metadata": {},
   "outputs": [],
   "source": [
    "ka, ma = newhope.keygen()\n",
    "skb, mb = newhope.sharedB(ma)\n",
    "ska = newhope.sharedA(mb, ka)"
   ]
  },
  {
   "cell_type": "code",
   "execution_count": null,
   "id": "0ef9c609",
   "metadata": {},
   "outputs": [],
   "source": [
    "if ska == skb:\n",
    "    print(\"\\nSuccessful key exchange! Keys match.\")\n",
    "else:\n",
    "    print(\"\\nError! Keys do not match.\")\n",
    "    \n",
    "print(\"The shared key is:\", ska)"
   ]
  },
  {
   "cell_type": "markdown",
   "id": "cf6d0c18",
   "metadata": {},
   "source": [
    "# The SPHINCS+ digital signature scheme"
   ]
  },
  {
   "cell_type": "code",
   "execution_count": null,
   "id": "ba9e67be",
   "metadata": {},
   "outputs": [],
   "source": [
    "import pyspx.shake256_128s as sphincs\n",
    "import os, binascii\n",
    "import numpy as np\n",
    "\n",
    "np.random.seed(42)"
   ]
  },
  {
   "cell_type": "code",
   "execution_count": null,
   "id": "6bc5c07a",
   "metadata": {},
   "outputs": [],
   "source": [
    "# Key generation: private + public key\n",
    "seed = os.urandom(sphincs.crypto_sign_SEEDBYTES)\n",
    "public_key, secret_key = sphincs.generate_keypair(seed)"
   ]
  },
  {
   "cell_type": "code",
   "execution_count": null,
   "id": "81441ad0",
   "metadata": {},
   "outputs": [],
   "source": [
    "message = b'Hello World'\n",
    "signature = sphincs.sign(message, secret_key)\n",
    "valid = sphincs.verify(message, signature, public_key)\n",
    "\n",
    "message = b'Hello World'\n",
    "valid = sphincs.verify(message, signature, public_key)\n",
    "print(\"Tampered message:\", message)\n",
    "print(\"Tampered signature valid?\", valid)\n",
    "\n",
    "message = b'Bye World'\n",
    "valid = sphincs.verify(message, signature, public_key)\n",
    "print(\"Tampered message:\", message)\n",
    "print(\"Tampered signature valid?\", valid)"
   ]
  },
  {
   "cell_type": "code",
   "execution_count": null,
   "id": "ce46f5d0",
   "metadata": {},
   "outputs": [],
   "source": []
  }
 ],
 "metadata": {
  "kernelspec": {
   "display_name": "Python 3 (ipykernel)",
   "language": "python",
   "name": "python3"
  },
  "language_info": {
   "codemirror_mode": {
    "name": "ipython",
    "version": 3
   },
   "file_extension": ".py",
   "mimetype": "text/x-python",
   "name": "python",
   "nbconvert_exporter": "python",
   "pygments_lexer": "ipython3",
   "version": "3.9.2"
  }
 },
 "nbformat": 4,
 "nbformat_minor": 5
}
