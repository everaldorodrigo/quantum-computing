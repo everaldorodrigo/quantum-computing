{
 "cells": [
  {
   "cell_type": "markdown",
   "id": "bc85a817",
   "metadata": {},
   "source": [
    "# Quantum SVMs"
   ]
  },
  {
   "cell_type": "code",
   "execution_count": null,
   "id": "aaab2793",
   "metadata": {},
   "outputs": [],
   "source": [
    "# 1. The first step involves importing the modules required for \n",
    "# the implementation of the quantum SVM algorithm:\n",
    "    \n",
    "from qiskit import BasicAer\n",
    "from qiskit.aqua import QuantumInstance, aqua_globals\n",
    "from qiskit.aqua.algorithms import VQC, QSVM\n",
    "from qiskit.aqua.components.multiclass_extensions import *\n",
    "from qiskit.aqua.components.optimizers import COBYLA\n",
    "from qiskit.aqua.components.feature_maps import RawFeatureVector\n",
    "from qiskit.circuit.library import ZZFeatureMap, ZFeatureMap, PauliFeatureMap\n",
    "from qiskit.ml.datasets import breast_cancer\n",
    "from qiskit.circuit.library import TwoLocal\n",
    "seed = 42\n",
    "aqua_globals.random_seed = seed"
   ]
  },
  {
   "cell_type": "code",
   "execution_count": null,
   "id": "7fd4265d",
   "metadata": {},
   "outputs": [],
   "source": [
    "# 2. This is followed by the loading of the dataset and the \n",
    "# preparation of data(pre-processing) for the implementation\n",
    "# of the quantum SVM:\n",
    "\n",
    "feature_dim = 4\n",
    "_, training_input, test_input, _ = breast_cancer(\n",
    " training_size=12,\n",
    " test_size=4,\n",
    " n=feature_dim)\n",
    "feature_map = ZZFeatureMap(feature_dimension=feature_dim,\n",
    "                           reps=2, entanglement='linear')\n",
    "#feature_map = \\\n",
    "RawFeatureVector(feature_dimension=feature_dim)\n",
    "qsvm = QSVM(feature_map, training_input, test_input)"
   ]
  },
  {
   "cell_type": "code",
   "execution_count": null,
   "id": "ebd7b170",
   "metadata": {},
   "outputs": [],
   "source": [
    "# 3. The next step is to implement the quantum support vector\n",
    "# algorithm and simulate this algorithm using 'qasm_simulator':\n",
    "\n",
    "backend = BasicAer.get_backend('qasm_simulator')\n",
    "quantum_instance = QuantumInstance(backend, shots=1024,\n",
    "                                   seed_simulator=seed,\n",
    "                                   seed_transpiler=seed)\n",
    "result = qsvm.run(quantum_instance)\n",
    "print('Testing accuracy: {:0.2f}'.format(result['testing_accuracy']))"
   ]
  },
  {
   "cell_type": "code",
   "execution_count": null,
   "id": "2969ad85",
   "metadata": {},
   "outputs": [],
   "source": []
  }
 ],
 "metadata": {
  "kernelspec": {
   "display_name": "Python 3 (ipykernel)",
   "language": "python",
   "name": "python3"
  },
  "language_info": {
   "codemirror_mode": {
    "name": "ipython",
    "version": 3
   },
   "file_extension": ".py",
   "mimetype": "text/x-python",
   "name": "python",
   "nbconvert_exporter": "python",
   "pygments_lexer": "ipython3",
   "version": "3.9.2"
  }
 },
 "nbformat": 4,
 "nbformat_minor": 5
}
