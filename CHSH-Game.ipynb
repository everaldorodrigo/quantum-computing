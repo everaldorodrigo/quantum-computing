{
 "cells": [
  {
   "cell_type": "code",
   "execution_count": null,
   "id": "e756583f",
   "metadata": {},
   "outputs": [],
   "source": [
    "# 1. Import the necessary modules:\n",
    "\n",
    "from qiskit import *\n",
    "import numpy as np\n",
    "np.random.seed(42)"
   ]
  },
  {
   "cell_type": "code",
   "execution_count": null,
   "id": "6a314437",
   "metadata": {},
   "outputs": [],
   "source": [
    "# 2. Define the quantum circuit for implementing the CHSH game:\n",
    "\n",
    "def CHSH_circuit(x,y):\n",
    "    a0=0\n",
    "    a1=np.pi/2\n",
    "    b0=np.pi/4\n",
    "    b1=-np.pi/4\n",
    "    circ = QuantumCircuit(2,2)\n",
    "    circ.h(0)\n",
    "    circ.cx(0,1)\n",
    "    if(x==0):\n",
    "        circ.ry(a0,0)\n",
    "    else:\n",
    "        circ.ry(a1,0)\n",
    "    if(y==0):\n",
    "        circ.ry(b0,1)\n",
    "    else:\n",
    "        circ.ry(b1,1)\n",
    "    circ.measure([0,1], [0,1])\n",
    "    return circ"
   ]
  },
  {
   "cell_type": "code",
   "execution_count": null,
   "id": "e27046a9",
   "metadata": {},
   "outputs": [],
   "source": [
    "# 3. Define the probability of Alice and Bob winning this game:\n",
    "\n",
    "def winning_probability(backend, shots):\n",
    "    a0=0\n",
    "    a1=np.pi/2\n",
    "    b0=np.pi/4\n",
    "    b1=-np.pi/4\n",
    "    total = 0\n",
    "    circuits = [CHSH_circuit(0,0), CHSH_circuit(0,1),\n",
    "               CHSH_circuit(1,0), CHSH_circuit(1,1)]\n",
    "    job = execute(circuits, backend=backend,\n",
    "                  shots = shots)\n",
    "    for qc in circuits[0:3]:\n",
    "        counts = job.result().get_counts(qc)\n",
    "    if('00' in counts):\n",
    "        total += counts['00']\n",
    "    if('11' in counts):\n",
    "        total += counts['11']\n",
    "    counts = job.result().get_counts(circuits[3])\n",
    "    if('01' in counts):\n",
    "        total += counts['01']\n",
    "    if('10' in counts):\n",
    "        total += counts['10']\n",
    "    return total/(4*shots) "
   ]
  },
  {
   "cell_type": "code",
   "execution_count": null,
   "id": "41c615eb",
   "metadata": {},
   "outputs": [],
   "source": [
    "# 4. Simulate the CHSH circuit using 'qasm_simulator' and display the probability of winning:\n",
    "\n",
    "backend = Aer.get_backend('qasm_simulator')\n",
    "print(winning_probability(backend, shots=1024))"
   ]
  },
  {
   "cell_type": "code",
   "execution_count": null,
   "id": "1e83f74b",
   "metadata": {},
   "outputs": [],
   "source": []
  }
 ],
 "metadata": {
  "kernelspec": {
   "display_name": "Python 3 (ipykernel)",
   "language": "python",
   "name": "python3"
  },
  "language_info": {
   "codemirror_mode": {
    "name": "ipython",
    "version": 3
   },
   "file_extension": ".py",
   "mimetype": "text/x-python",
   "name": "python",
   "nbconvert_exporter": "python",
   "pygments_lexer": "ipython3",
   "version": "3.9.2"
  }
 },
 "nbformat": 4,
 "nbformat_minor": 5
}
