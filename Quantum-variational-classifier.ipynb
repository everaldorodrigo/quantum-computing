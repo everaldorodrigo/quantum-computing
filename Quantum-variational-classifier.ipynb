{
 "cells": [
  {
   "cell_type": "markdown",
   "id": "24a2c5a9",
   "metadata": {},
   "source": [
    "# Quantum variational classifier"
   ]
  },
  {
   "cell_type": "code",
   "execution_count": 13,
   "id": "ac4b1dcf",
   "metadata": {},
   "outputs": [],
   "source": [
    "from qiskit import BasicAer\n",
    "from qiskit.aqua import QuantumInstance, aqua_globals\n",
    "# from qiskit.utils import algorithm_globals\n",
    "from qiskit.aqua.algorithms import VQC\n",
    "from qiskit.aqua.components.optimizers import COBYLA\n",
    "from qiskit.circuit.library import ZZFeatureMap, ZFeatureMap, PauliFeatureMap\n",
    "from qiskit.ml.circuit.library import RawFeatureVector\n",
    "from qiskit.ml.datasets import breast_cancer\n",
    "from qiskit.circuit.library import TwoLocal\n",
    "\n",
    "seed = 42\n",
    "algorithm_globals.random_seed = seed"
   ]
  },
  {
   "cell_type": "code",
   "execution_count": 14,
   "id": "1d3aff90",
   "metadata": {},
   "outputs": [],
   "source": [
    "feature_dim = 4 # dimension of each data point\n",
    "_, training_input, test_input, _ = breast_cancer(\n",
    " training_size=12,\n",
    " test_size=4,\n",
    " n=feature_dim)\n",
    "\n",
    "feature_map = \\\n",
    "RawFeatureVector(feature_dimension=feature_dim)\n",
    "vqc = VQC(COBYLA(maxiter=1000), feature_map,\n",
    " TwoLocal(feature_map.num_qubits, ['ry', 'rz'],\n",
    " 'cz', reps=3),\n",
    " training_input,\n",
    " test_input)"
   ]
  },
  {
   "cell_type": "code",
   "execution_count": 15,
   "id": "fea013e9",
   "metadata": {},
   "outputs": [
    {
     "name": "stdout",
     "output_type": "stream",
     "text": [
      "Testing accuracy: 0.88\n"
     ]
    }
   ],
   "source": [
    "backend = BasicAer.get_backend('qasm_simulator')\n",
    "quantum_instance = QuantumInstance(backend, shots=1024,\n",
    " seed_simulator=seed,\n",
    " seed_transpiler=seed)\n",
    "result = vqc.run(quantum_instance)\n",
    "print('Testing accuracy: {:0.2f}'.format(result['testing_accuracy']))"
   ]
  },
  {
   "cell_type": "code",
   "execution_count": null,
   "id": "0657341e",
   "metadata": {},
   "outputs": [],
   "source": []
  }
 ],
 "metadata": {
  "kernelspec": {
   "display_name": "Python 3 (ipykernel)",
   "language": "python",
   "name": "python3"
  },
  "language_info": {
   "codemirror_mode": {
    "name": "ipython",
    "version": 3
   },
   "file_extension": ".py",
   "mimetype": "text/x-python",
   "name": "python",
   "nbconvert_exporter": "python",
   "pygments_lexer": "ipython3",
   "version": "3.9.2"
  }
 },
 "nbformat": 4,
 "nbformat_minor": 5
}
