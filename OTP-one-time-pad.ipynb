{
 "cells": [
  {
   "cell_type": "code",
   "execution_count": null,
   "id": "6ec5ce84",
   "metadata": {},
   "outputs": [],
   "source": [
    "# OTP: one-time pad\n",
    "\n",
    "key = 5\n",
    "message = \"HELLO\"\n",
    "encrypt = \"\"\n",
    "\n",
    "for i in range(len(message)):\n",
    "    letter = ord(message[i])-65\n",
    "    letter = (letter + key)%25\n",
    "    letter +=65\n",
    "\n",
    "    encrypt = encrypt + chr(letter)\n",
    "\n",
    "    print(\"Original message is:\", message)\n",
    "print(\"Encrypted message is:\", encrypt)"
   ]
  },
  {
   "cell_type": "code",
   "execution_count": null,
   "id": "6e3e4712",
   "metadata": {},
   "outputs": [],
   "source": []
  }
 ],
 "metadata": {
  "kernelspec": {
   "display_name": "Python 3 (ipykernel)",
   "language": "python",
   "name": "python3"
  },
  "language_info": {
   "codemirror_mode": {
    "name": "ipython",
    "version": 3
   },
   "file_extension": ".py",
   "mimetype": "text/x-python",
   "name": "python",
   "nbconvert_exporter": "python",
   "pygments_lexer": "ipython3",
   "version": "3.9.12"
  }
 },
 "nbformat": 4,
 "nbformat_minor": 5
}
