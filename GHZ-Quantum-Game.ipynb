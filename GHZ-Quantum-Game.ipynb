{
 "cells": [
  {
   "cell_type": "code",
   "execution_count": null,
   "id": "c9788b5a",
   "metadata": {},
   "outputs": [],
   "source": [
    "# 1. The first step entails the importing of the required modules:\n",
    "\n",
    "from qiskit import *\n",
    "from qiskit.visualization import plot_histogram\n",
    "import numpy as np\n",
    "np.random.seed(42)"
   ]
  },
  {
   "cell_type": "code",
   "execution_count": null,
   "id": "31c3bbdd",
   "metadata": {},
   "outputs": [],
   "source": [
    "# 2. The next step involves defining the quantum circuit that is used to implement the three-qubit GHZ game:\n",
    "\n",
    "circ = QuantumCircuit(3,3)\n",
    "circ.h(0)\n",
    "circ.cx(0,1)\n",
    "circ.cx(0,2)\n",
    "circ.h(0)\n",
    "circ.h(1)\n",
    "circ.h(2)\n",
    "circ.measure([0,1,2], [0,1,2])"
   ]
  },
  {
   "cell_type": "code",
   "execution_count": null,
   "id": "c95e0268",
   "metadata": {},
   "outputs": [],
   "source": [
    "# 3. The next step involves simulating the GHZ game using 'qasm_simulator':\n",
    "\n",
    "backend = Aer.get_backend('qasm_simulator')\n",
    "shots= 1024\n",
    "job = execute(circ, backend=backend, shots = shots)\n",
    "result = job.result()\n",
    "count = result.get_counts(circ)"
   ]
  },
  {
   "cell_type": "code",
   "execution_count": null,
   "id": "e5af04e9",
   "metadata": {},
   "outputs": [],
   "source": [
    "# 4. Eventually, the probability of winning the GHZ game is then calculated and displayed:\n",
    "\n",
    "total = 0\n",
    "if('000' in count):\n",
    "    total += count['000']\n",
    "if('011' in count):\n",
    "    total += count['011']\n",
    "if('101' in count):\n",
    "    total += count['101']\n",
    "if('110' in count):\n",
    "    total += count['110']\n",
    "probability_winning = total/shots\n",
    "print(\"Probability of winning is:\", probability_winning)"
   ]
  },
  {
   "cell_type": "code",
   "execution_count": null,
   "id": "38ef29b9",
   "metadata": {},
   "outputs": [],
   "source": []
  }
 ],
 "metadata": {
  "kernelspec": {
   "display_name": "Python 3 (ipykernel)",
   "language": "python",
   "name": "python3"
  },
  "language_info": {
   "codemirror_mode": {
    "name": "ipython",
    "version": 3
   },
   "file_extension": ".py",
   "mimetype": "text/x-python",
   "name": "python",
   "nbconvert_exporter": "python",
   "pygments_lexer": "ipython3",
   "version": "3.9.2"
  }
 },
 "nbformat": 4,
 "nbformat_minor": 5
}
