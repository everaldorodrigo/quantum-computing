{
 "cells": [
  {
   "cell_type": "markdown",
   "id": "c7600b5f",
   "metadata": {},
   "source": [
    "# Caesar's cipher"
   ]
  },
  {
   "cell_type": "code",
   "execution_count": null,
   "id": "14e5115f",
   "metadata": {},
   "outputs": [],
   "source": [
    "message = \"YES\"\n",
    "shift = 3\n",
    "encryption = \"\"\n",
    "for c in message:\n",
    "    if c.isupper():\n",
    "        c_unicode = ord(c)\n",
    "        c_index = ord(c) - ord(\"A\")\n",
    "        new_index = (c_index + shift) % 26\n",
    "        new_unicode = new_index + ord(\"A\")\n",
    "        new_character = chr(new_unicode)\n",
    "        encryption = encryption + new_character\n",
    "    else:\n",
    "        encryption += c\n",
    "print(\"Plain text:\", message)\n",
    "print(\"Encrypted text:\", encryption)"
   ]
  },
  {
   "cell_type": "markdown",
   "id": "10fc8cd2",
   "metadata": {},
   "source": [
    "# The one-time pad"
   ]
  },
  {
   "cell_type": "code",
   "execution_count": null,
   "id": "1bbd86fe",
   "metadata": {},
   "outputs": [],
   "source": [
    "key = 5\n",
    "message = \"HELLO\"\n",
    "encrypt = \"\"\n",
    "for i in range(len(message)):\n",
    "    letter = ord(message[i])-65\n",
    "    letter = (letter + key)%25\n",
    "    letter +=65\n",
    "    encrypt = encrypt + chr(letter)\n",
    "print(\"Original message is:\", message)\n",
    "print(\"Encrypted message is:\", encrypt)"
   ]
  },
  {
   "cell_type": "markdown",
   "id": "fa3e9881",
   "metadata": {},
   "source": [
    "# Diffie-Hellmann key exchange protocol"
   ]
  },
  {
   "cell_type": "code",
   "execution_count": null,
   "id": "4f23b434",
   "metadata": {},
   "outputs": [],
   "source": [
    "import math\n",
    "p = input(\"Enter the shared prime number: \\n\")\n",
    "p = int(p)\n",
    "g = input(\"Enter the shared base: \\n\")\n",
    "g = int(g)\n",
    "a = input(\"Enter Alice's secret key: \\n\")\n",
    "a = int(a)\n",
    "b = input(\"Enter Bob's secret key: \\n\")\n",
    "b = int(b)\n",
    "AlicePublicKey = (g ** a ) % p\n",
    "BobPublicKey = (g ** b) % p\n",
    "AliceSecret = (BobPublicKey ** a) % p\n",
    "BobSecret = (AlicePublicKey ** b) % p\n",
    "print(AliceSecret)\n",
    "print(BobSecret)"
   ]
  },
  {
   "cell_type": "code",
   "execution_count": null,
   "id": "9570b658",
   "metadata": {},
   "outputs": [],
   "source": []
  }
 ],
 "metadata": {
  "kernelspec": {
   "display_name": "Python 3 (ipykernel)",
   "language": "python",
   "name": "python3"
  },
  "language_info": {
   "codemirror_mode": {
    "name": "ipython",
    "version": 3
   },
   "file_extension": ".py",
   "mimetype": "text/x-python",
   "name": "python",
   "nbconvert_exporter": "python",
   "pygments_lexer": "ipython3",
   "version": "3.9.2"
  }
 },
 "nbformat": 4,
 "nbformat_minor": 5
}
