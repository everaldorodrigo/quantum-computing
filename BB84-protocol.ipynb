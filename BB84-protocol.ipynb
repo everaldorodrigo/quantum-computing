{
 "cells": [
  {
   "cell_type": "raw",
   "id": "9ec559e9",
   "metadata": {},
   "source": [
    "The BB84 protocol"
   ]
  },
  {
   "cell_type": "code",
   "execution_count": null,
   "id": "95861a4d",
   "metadata": {},
   "outputs": [],
   "source": [
    "# 1. The first step involves importing the necessary modules:\n",
    "    \n",
    "from qiskit import QuantumCircuit, execute, Aer\n",
    "from qiskit.visualization import *\n",
    "import matplotlib.pyplot as plt\n",
    "import numpy as np\n",
    "np.random.seed(42)"
   ]
  },
  {
   "cell_type": "code",
   "execution_count": null,
   "id": "bbe8c16f",
   "metadata": {},
   "outputs": [],
   "source": [
    "# 2. The next step is to define the circuit for generating a random sequence of bit strings:\n",
    "\n",
    "circ = QuantumCircuit(1,1)\n",
    "circ.x(0)\n",
    "circ.barrier()\n",
    "circ.h(0)\n",
    "circ.barrier()\n",
    "circ.measure(0,0)\n",
    "circ.barrier()\n",
    "backend = Aer.get_backend('qasm_simulator')"
   ]
  },
  {
   "cell_type": "code",
   "execution_count": null,
   "id": "2310f77e",
   "metadata": {},
   "outputs": [],
   "source": [
    "# 3. Alice then uses this defined random circuit to generate 128 random bits:\n",
    "\n",
    "result = execute(circ, backend, shots=128,\n",
    "                 memory = True).result()\n",
    "bits_alice = [int(q) for q in result.get_memory()]\n",
    "print(bits_alice)"
   ]
  },
  {
   "cell_type": "code",
   "execution_count": null,
   "id": "3cb31b8a",
   "metadata": {},
   "outputs": [],
   "source": [
    "# 4. Furthermore, Alice uses the random circuit to randomly choose the basis she is\n",
    "#    going to use in order to implement the BB84 protocol:\n",
    "    \n",
    "result = execute(circ, backend, shots=128,\n",
    "                 memory = True).result()\n",
    "basis_alice = [int(q) for q in result.get_memory()]\n",
    "print(basis_alice)"
   ]
  },
  {
   "cell_type": "code",
   "execution_count": null,
   "id": "f2cf8f9a",
   "metadata": {},
   "outputs": [],
   "source": [
    "# 5. The next step involves Bob randomly choosing his basis using the random circuit\n",
    "#    defined earlier:\n",
    "\n",
    "result = execute(circ, backend, shots=128,\n",
    "                 memory = True).result()\n",
    "basis_bob = [int(q) for q in result.get_memory()]\n",
    "print(basis_bob)"
   ]
  },
  {
   "cell_type": "code",
   "execution_count": null,
   "id": "60e1586c",
   "metadata": {},
   "outputs": [],
   "source": [
    "# 6. Now, Alice encodes the random bits she has generated into qubits and sends them\n",
    "#    over to Bob:\n",
    "\n",
    "bits_bob = []\n",
    "for i in range(128):\n",
    "    circ_send = QuantumCircuit(1,1)\n",
    "    if bits_alice[i]:\n",
    "        circ_send.x(0)\n",
    "    if basis_alice[i]:\n",
    "        circ_send.h(0)\n",
    "    if basis_bob[i]:\n",
    "        circ_send.h(0)\n",
    "    circ_send.measure(0,0)\n",
    "    result = execute(circ_send, backend, shots = 1,\n",
    "                     memory = True).result()\n",
    "    bits_bob.append(int(result.get_memory()[0]))\n",
    "print(bits_bob)"
   ]
  },
  {
   "cell_type": "code",
   "execution_count": null,
   "id": "c48408ad",
   "metadata": {},
   "outputs": [],
   "source": [
    "# 7. Bob then performs measurements and communicates to Alice regarding the bases\n",
    "#    he used to perform measurements. Eventually, if Bob's bases match with Alice's,\n",
    "#    then they generate and agree on a secret key:\n",
    "\n",
    "key = []\n",
    "for i in range(128):\n",
    "    if basis_alice[i] == basis_bob[i]:\n",
    "        key.append(bits_bob[i])\n",
    "print(\"Key length\", len(key))\n",
    "print(key)"
   ]
  },
  {
   "cell_type": "markdown",
   "id": "e3e0d851",
   "metadata": {},
   "source": [
    "The B92 protocol"
   ]
  },
  {
   "cell_type": "code",
   "execution_count": null,
   "id": "29a7a655",
   "metadata": {},
   "outputs": [],
   "source": [
    "# 1. The first step entails importing the necessary modules:\n",
    "\n",
    "from qiskit import QuantumCircuit, execute, Aer\n",
    "from qiskit.visualization import *\n",
    "import matplotlib.pyplot as plt\n",
    "import numpy as np\n",
    "\n",
    "np.random.seed(42)"
   ]
  },
  {
   "cell_type": "code",
   "execution_count": null,
   "id": "45c75f80",
   "metadata": {},
   "outputs": [],
   "source": [
    "# 2. Then, the circuit for generating a random string of bits (128 bits) is generated\n",
    "#    by Alice:\n",
    "\n",
    "circ = QuantumCircuit(1,1)\n",
    "circ.x(0)\n",
    "circ.barrier()\n",
    "circ.h(0)\n",
    "circ.barrier()\n",
    "circ.measure(0,0)\n",
    "circ.barrier()\n",
    "circ.draw(output='text')\n",
    "n = 128\n",
    "backend = Aer.get_backend('qasm_simulator')\n",
    "result = execute(circ, backend, shots=n,\n",
    "                 memory = True).result()\n",
    "bits_alice = [int(q) for q in result.get_memory()]\n",
    "print(bits_alice)"
   ]
  },
  {
   "cell_type": "code",
   "execution_count": null,
   "id": "0b48a529",
   "metadata": {},
   "outputs": [],
   "source": [
    "# 3. The next step involves Bob choosing at random the bases he will use to perform\n",
    "#    measurements:\n",
    "\n",
    "result = execute(circ, backend, shots=n,\n",
    "                 memory = True).result()\n",
    "basis_bob = [int(q) for q in result.get_memory()]\n",
    "print(basis_bob)\n",
    "bits_bob = []\n",
    "for i in range(n):\n",
    "    circ_send = QuantumCircuit(1,1)\n",
    "    if bits_alice[i] == 0:\n",
    "        circ_send.id(0)\n",
    "    if bits_alice[i] == 1:\n",
    "        circ_send.h(0)\n",
    "    else:\n",
    "        circ_send.id(0)\n",
    "    circ_send.measure(0,0)\n",
    "    result = execute(circ_send, backend, shots = 1,\n",
    "                     memory = True).result()\n",
    "    bits_bob.append(int(result.get_memory()[0]))\n",
    "print(bits_bob)"
   ]
  },
  {
   "cell_type": "code",
   "execution_count": null,
   "id": "e594d976",
   "metadata": {},
   "outputs": [],
   "source": [
    "# 4. Finally, both Alice and Bob communicate to generate and agree on the secret key\n",
    "#    generated:\n",
    "\n",
    "key = []\n",
    "for i in range(n):\n",
    "    if bits_alice[i] == bits_bob[i]:\n",
    "        key.append(bits_bob[i])\n",
    "print(\"Key length is:\", len(key))\n",
    "print(\"The secret Key is:\", key)"
   ]
  },
  {
   "cell_type": "markdown",
   "id": "e2974cd4",
   "metadata": {},
   "source": [
    "The E91 QKD protocol"
   ]
  },
  {
   "cell_type": "code",
   "execution_count": null,
   "id": "ded66e9e",
   "metadata": {},
   "outputs": [],
   "source": [
    "# 1. First, import the modules necessary for the implementation of the E91 protocol:\n",
    "\n",
    "from qiskit import *\n",
    "import numpy as np\n",
    "import matplotlib.pyplot as plt\n",
    "np.random.seed(42)\n"
   ]
  },
  {
   "cell_type": "code",
   "execution_count": null,
   "id": "7360bb81",
   "metadata": {},
   "outputs": [],
   "source": [
    "# 2. Then, both Alice and Bob choose their bases to use:\n",
    "\n",
    "A = [0, np.pi/8, np.pi/4]\n",
    "B = [0, np.pi/8, -1*np.pi/8]\n",
    "basesA = []\n",
    "basesB = []\n",
    "output = []"
   ]
  },
  {
   "cell_type": "code",
   "execution_count": null,
   "id": "896bcf0e",
   "metadata": {},
   "outputs": [],
   "source": [
    "# 3. The next step involves defining the circuit to be used by Alice and Bob in order to\n",
    "#    generate a 100-bit random key:\n",
    "\n",
    "for i in range(100):\n",
    "    circ = QuantumCircuit(2, 2)\n",
    "    circ.h(0)\n",
    "    circ.cx(0,1)\n",
    "    Ta = np.random.choice(A)\n",
    "    Tb = np.random.choice(B)\n",
    "    circ.rz(Ta, 0)\n",
    "    circ.rz(Tb, 1)\n",
    "    circ.measure([0, 1], [0, 1])\n",
    "    \n",
    "# 4. Then, simulate the circuit using the 'qasm_simulator':\n",
    "\n",
    "    backend = Aer.get_backend('qasm_simulator')\n",
    "    result = execute(circ, backend, shots=1,\n",
    "                     memory=True).result()\n",
    "# 5. Finally, generate and display the random key.\n",
    "\n",
    "    value = result.get_memory()\n",
    "    output.append(value)\n",
    "\n",
    "print(\"The output is:\", output)"
   ]
  },
  {
   "cell_type": "code",
   "execution_count": null,
   "id": "2f421127",
   "metadata": {},
   "outputs": [],
   "source": []
  },
  {
   "cell_type": "code",
   "execution_count": null,
   "id": "76c827ff",
   "metadata": {},
   "outputs": [],
   "source": []
  }
 ],
 "metadata": {
  "kernelspec": {
   "display_name": "Python 3 (ipykernel)",
   "language": "python",
   "name": "python3"
  },
  "language_info": {
   "codemirror_mode": {
    "name": "ipython",
    "version": 3
   },
   "file_extension": ".py",
   "mimetype": "text/x-python",
   "name": "python",
   "nbconvert_exporter": "python",
   "pygments_lexer": "ipython3",
   "version": "3.9.2"
  }
 },
 "nbformat": 4,
 "nbformat_minor": 5
}
