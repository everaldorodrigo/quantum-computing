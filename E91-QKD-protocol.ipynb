{
 "cells": [
  {
   "cell_type": "markdown",
   "id": "cd28a318",
   "metadata": {},
   "source": [
    "# The  E91 QKD protocol"
   ]
  },
  {
   "cell_type": "code",
   "execution_count": null,
   "id": "75a7dda6",
   "metadata": {},
   "outputs": [],
   "source": [
    "# 1. First, import the modules necessary for the implementation of the E91 protocol:\n",
    "\n",
    "from qiskit import *\n",
    "import numpy as np\n",
    "import matplotlib.pyplot as plt\n",
    "np.random.seed(42)"
   ]
  },
  {
   "cell_type": "code",
   "execution_count": null,
   "id": "37205611",
   "metadata": {},
   "outputs": [],
   "source": [
    "# 2. Then, both Alice and Bob choose their bases to use:\n",
    "\n",
    "A = [0, np.pi/8, np.pi/4]\n",
    "B = [0, np.pi/8, -1*np.pi/8]\n",
    "basesA = []\n",
    "basesB = []\n",
    "output = []"
   ]
  },
  {
   "cell_type": "code",
   "execution_count": null,
   "id": "8530e49f",
   "metadata": {},
   "outputs": [],
   "source": [
    "# 3. The next step involves defining the circuit to be used \n",
    "# by Alice and Bob in order to generate a 100-bit random key:\n",
    "\n",
    "for i in range(100):\n",
    "    circ = QuantumCircuit(2, 2)\n",
    "    circ.h(0)\n",
    "    circ.cx(0,1)\n",
    "    Ta = np.random.choice(A)\n",
    "    Tb = np.random.choice(B)\n",
    "    circ.rz(Ta, 0)\n",
    "    circ.rz(Tb, 1)\n",
    "    circ.measure([0, 1], [0, 1])\n",
    "\n",
    "# 4. Then, simulate the circuit using the 'qasm_simulator':\n",
    "\n",
    "    backend = Aer.get_backend('qasm_simulator')\n",
    "    result = execute(circ, backend, shots=1,\n",
    "                     memory=True).result()\n",
    "\n",
    "# 5. Finally, generate and display the random key.\n",
    "\n",
    "    value = result.get_memory()\n",
    "    output.append(value)\n",
    "print(\"The output is:\", output)"
   ]
  },
  {
   "cell_type": "code",
   "execution_count": null,
   "id": "32bae056",
   "metadata": {},
   "outputs": [],
   "source": []
  }
 ],
 "metadata": {
  "kernelspec": {
   "display_name": "Python 3 (ipykernel)",
   "language": "python",
   "name": "python3"
  },
  "language_info": {
   "codemirror_mode": {
    "name": "ipython",
    "version": 3
   },
   "file_extension": ".py",
   "mimetype": "text/x-python",
   "name": "python",
   "nbconvert_exporter": "python",
   "pygments_lexer": "ipython3",
   "version": "3.9.2"
  }
 },
 "nbformat": 4,
 "nbformat_minor": 5
}
