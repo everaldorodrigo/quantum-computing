{
 "cells": [
  {
   "cell_type": "markdown",
   "id": "ec0defd6",
   "metadata": {},
   "source": [
    "# MLP ANN"
   ]
  },
  {
   "cell_type": "code",
   "execution_count": null,
   "id": "838ab42d",
   "metadata": {},
   "outputs": [],
   "source": [
    "import numpy as np\n",
    "from sklearn.datasets import load_digits\n",
    "from sklearn.model_selection import train_test_split\n",
    "from sklearn.neural_network import MLPClassifier\n",
    "from sklearn.metrics import accuracy_score, classification_report, confusion_matrix\n",
    "\n",
    "np.random.seed(42)"
   ]
  },
  {
   "cell_type": "code",
   "execution_count": null,
   "id": "a7ac1cb7",
   "metadata": {},
   "outputs": [],
   "source": [
    "iris = load_digits()\n",
    "X = iris.data\n",
    "Y = iris.target\n",
    "\n",
    "x_train, x_test, y_train, y_test = \\\n",
    "train_test_split(X,Y, test_size=0.2, random_state=42)"
   ]
  },
  {
   "cell_type": "code",
   "execution_count": null,
   "id": "09dbfa03",
   "metadata": {},
   "outputs": [],
   "source": [
    "clf = MLPClassifier(alpha=1, max_iter=1000)\n",
    "clf.fit(x_train, y_train)\n",
    "y_pred = clf.predict(x_test)"
   ]
  },
  {
   "cell_type": "code",
   "execution_count": null,
   "id": "2862ee3c",
   "metadata": {},
   "outputs": [],
   "source": [
    "print('Accuracy is:', accuracy_score(y_test, y_pred))\n",
    "print('\\nClassification Report is:\\n',\n",
    " classification_report(y_test, y_pred))\n",
    "print('\\nConfusion Matrix is:\\n',\n",
    " confusion_matrix(y_test, y_pred))"
   ]
  },
  {
   "cell_type": "code",
   "execution_count": null,
   "id": "3a3b1365",
   "metadata": {},
   "outputs": [],
   "source": []
  }
 ],
 "metadata": {
  "kernelspec": {
   "display_name": "Python 3 (ipykernel)",
   "language": "python",
   "name": "python3"
  },
  "language_info": {
   "codemirror_mode": {
    "name": "ipython",
    "version": 3
   },
   "file_extension": ".py",
   "mimetype": "text/x-python",
   "name": "python",
   "nbconvert_exporter": "python",
   "pygments_lexer": "ipython3",
   "version": "3.9.2"
  }
 },
 "nbformat": 4,
 "nbformat_minor": 5
}
