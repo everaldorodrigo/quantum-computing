{
 "cells": [
  {
   "cell_type": "markdown",
   "id": "2373c3de",
   "metadata": {},
   "source": [
    "# Continuous-variable quantum teleportation using Strawberry Fields"
   ]
  },
  {
   "cell_type": "code",
   "execution_count": null,
   "id": "05d05ba8",
   "metadata": {},
   "outputs": [],
   "source": [
    "import strawberryfields as sf\n",
    "from strawberryfields.ops import *\n",
    "import numpy as np\n",
    "from numpy import pi, sqrt\n",
    "from matplotlib import pyplot as plt\n",
    "\n",
    "np.random.seed(42)"
   ]
  },
  {
   "cell_type": "code",
   "execution_count": null,
   "id": "31929f70",
   "metadata": {},
   "outputs": [],
   "source": [
    "prog = sf.Program(3)\n",
    "alpha = 1+0.5j\n",
    "r = np.abs(alpha)\n",
    "phi = np.angle(alpha)\n",
    "with prog.context as q:\n",
    " Coherent(r, phi) | q[0]\n",
    " Squeezed(-2) | q[1]\n",
    " Squeezed(2) | q[2]\n",
    " BS = BSgate(pi/4, pi)\n",
    " BS | (q[1], q[2])\n",
    " BS | (q[0], q[1])\n",
    " MeasureX | q[0]\n",
    " MeasureP | q[1]\n",
    " Xgate(sqrt(2) * q[0].par) | q[2]\n",
    " Zgate(sqrt(2) * q[1].par) | q[2]"
   ]
  },
  {
   "cell_type": "code",
   "execution_count": null,
   "id": "a42e04f2",
   "metadata": {},
   "outputs": [],
   "source": [
    "engine = sf.Engine('fock',\n",
    " backend_options={\"cutoff_dim\": 15})\n",
    "result = engine.run(prog, shots=1, modes=None,\n",
    " compile_options={})\n",
    "print(result.samples)\n",
    "print(result.state)\n",
    "state = result.state\n",
    "print(state.dm().shape)\n",
    "rho2 = np.einsum('kkllij->ij', state.dm())\n",
    "print(rho2.shape)\n",
    "probs = np.real_if_close(np.diagonal(rho2))\n",
    "print(probs)\n",
    "plt.bar(range(7), probs[:7])\n",
    "plt.xlabel('Fock state')\n",
    "plt.ylabel('Marginal probability')\n",
    "plt.title('Mode 2')\n",
    "plt.show()\n",
    "fock_probs = state.all_fock_probs()\n",
    "fock_probs.shape\n",
    "np.sum(fock_probs, axis=(0,1))"
   ]
  },
  {
   "cell_type": "code",
   "execution_count": null,
   "id": "21cb7fab",
   "metadata": {},
   "outputs": [],
   "source": []
  }
 ],
 "metadata": {
  "kernelspec": {
   "display_name": "Python 3 (ipykernel)",
   "language": "python",
   "name": "python3"
  },
  "language_info": {
   "codemirror_mode": {
    "name": "ipython",
    "version": 3
   },
   "file_extension": ".py",
   "mimetype": "text/x-python",
   "name": "python",
   "nbconvert_exporter": "python",
   "pygments_lexer": "ipython3",
   "version": "3.9.2"
  }
 },
 "nbformat": 4,
 "nbformat_minor": 5
}
